{
 "cells": [
  {
   "cell_type": "code",
   "execution_count": 3,
   "id": "8190fbd3",
   "metadata": {},
   "outputs": [
    {
     "data": {
      "text/plain": [
       "2"
      ]
     },
     "execution_count": 3,
     "metadata": {},
     "output_type": "execute_result"
    }
   ],
   "source": [
    " #1.Find the Duplicate Number\n",
    "class Solution:\n",
    "    def findDuplicate(self, nums):\n",
    "        nums.sort()\n",
    "        for i in range(1, len(nums)):\n",
    "            if nums[i] == nums[i-1]:\n",
    "                return nums[i]\n",
    "S=Solution()\n",
    "List=[2,4,5,7,2]\n",
    "S.findDuplicate(List)"
   ]
  },
  {
   "cell_type": "code",
   "execution_count": 4,
   "id": "c921daff",
   "metadata": {},
   "outputs": [
    {
     "data": {
      "text/plain": [
       "[0, 0, 1, 1, 2, 2]"
      ]
     },
     "execution_count": 4,
     "metadata": {},
     "output_type": "execute_result"
    }
   ],
   "source": [
    "#2.Sort Colors\n",
    "class Solution:\n",
    "    def sortColors(self, nums):\n",
    "        nums.sort()\n",
    "        return nums\n",
    "S=Solution()\n",
    "list=[0,1,2,0,1,2]\n",
    "S.sortColors(list)"
   ]
  },
  {
   "cell_type": "code",
   "execution_count": 6,
   "id": "e3399835",
   "metadata": {},
   "outputs": [
    {
     "data": {
      "text/plain": [
       "5"
      ]
     },
     "execution_count": 6,
     "metadata": {},
     "output_type": "execute_result"
    }
   ],
   "source": [
    "#3.Remove Duplicates from Sorted Array\n",
    "class Solution:\n",
    "    def removeDuplicates(self, nums):\n",
    "        i = 0\n",
    "        while i < len(nums)-1:\n",
    "            if nums[i] == nums[i+1]:\n",
    "                del nums[i]\n",
    "            else:\n",
    "                i += 1\n",
    "        return len(nums)\n",
    "S=Solution()\n",
    "list=[0,0,1,1,1,2,2,3,3,4]\n",
    "S.removeDuplicates(list)"
   ]
  },
  {
   "cell_type": "code",
   "execution_count": 10,
   "id": "fc4fd9e9",
   "metadata": {},
   "outputs": [],
   "source": [
    "#4.Set Matrix Zeroes\n",
    "class Solution(object):\n",
    "    def setZeroes(self, matrix):\n",
    "        iscol = False\n",
    "        R = len(matrix)\n",
    "        C = len(matrix[0])\n",
    "        for i in range(R):\n",
    "            # Since first cell for both first row and first column is the same i.e. matrix[0][0]\n",
    "            # We can use an additional variable for either the first row/column.\n",
    "            # For this solution we are using an additional variable for the first column\n",
    "            # and using matrix[0][0] for the first row.\n",
    "            if matrix[i][0] == 0:\n",
    "                is_col = True\n",
    "            for j in range(1, C):\n",
    "                # If an element is zero, we set the first element of the corresponding row and column to 0\n",
    "                if matrix[i][j]  == 0:\n",
    "                    matrix[0][j] = 0\n",
    "                    matrix[i][0] = 0\n",
    "\n",
    "        # Iterate over the array once again and using the first row and first column, update the elements.\n",
    "        for i in range(1, R):\n",
    "            for j in range(1, C):\n",
    "                if not matrix[i][0] or not matrix[0][j]:\n",
    "                    matrix[i][j] = 0\n",
    "\n",
    "        # See if the first row needs to be set to zero as well\n",
    "        if matrix[0][0] == 0:\n",
    "            for j in range(C):\n",
    "                matrix[0][j] = 0\n",
    "\n",
    "        # See if the first column needs to be set to zero as well        \n",
    "        if iscol:\n",
    "            for i in range(R):\n",
    "                matrix[i][0] = 0\n",
    "                \n",
    "S=Solution()\n",
    "matrix=[[1,1,1],[1,0,1],[1,1,1]]\n",
    "S.setZeroes(matrix)"
   ]
  },
  {
   "cell_type": "code",
   "execution_count": 9,
   "id": "49d97e5f",
   "metadata": {},
   "outputs": [
    {
     "data": {
      "text/plain": [
       "[1, 3, 12, 0, 0]"
      ]
     },
     "execution_count": 9,
     "metadata": {},
     "output_type": "execute_result"
    }
   ],
   "source": [
    "#5.Move Zeroes\n",
    "class Solution:\n",
    "    def moveZeroes(self, nums):\n",
    "        for i in nums:\n",
    "            if i==0:\n",
    "                nums.append(i)\n",
    "                nums.remove(i)\n",
    "        return nums\n",
    "S=Solution()\n",
    "list=[0,1,0,3,12]\n",
    "S.moveZeroes(list)"
   ]
  },
  {
   "cell_type": "code",
   "execution_count": 12,
   "id": "bbdc789f",
   "metadata": {},
   "outputs": [
    {
     "data": {
      "text/plain": [
       "5"
      ]
     },
     "execution_count": 12,
     "metadata": {},
     "output_type": "execute_result"
    }
   ],
   "source": [
    "#6. Best Time to Buy and Sell Stock\n",
    "class Solution:\n",
    "    def maxProfit(self, prices):\n",
    "        maxprof=0\n",
    "        j=0\n",
    "        for i in range(1,len(prices)):\n",
    "            diff=prices[i]-prices[j]\n",
    "            if diff>maxprof:\n",
    "                maxprof=diff\n",
    "            if prices[i]<prices[j]:\n",
    "                j=i\n",
    "        return maxprof\n",
    "S=Solution()\n",
    "list=[7,1,5,3,6,4]\n",
    "S.maxProfit(list)"
   ]
  },
  {
   "cell_type": "code",
   "execution_count": null,
   "id": "341a9ac7",
   "metadata": {},
   "outputs": [],
   "source": []
  }
 ],
 "metadata": {
  "kernelspec": {
   "display_name": "Python 3",
   "language": "python",
   "name": "python3"
  },
  "language_info": {
   "codemirror_mode": {
    "name": "ipython",
    "version": 3
   },
   "file_extension": ".py",
   "mimetype": "text/x-python",
   "name": "python",
   "nbconvert_exporter": "python",
   "pygments_lexer": "ipython3",
   "version": "3.8.8"
  }
 },
 "nbformat": 4,
 "nbformat_minor": 5
}
