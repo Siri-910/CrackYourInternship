{
 "cells": [
  {
   "cell_type": "code",
   "execution_count": 1,
   "id": "ab425ef0",
   "metadata": {},
   "outputs": [
    {
     "data": {
      "text/plain": [
       "[0, 1]"
      ]
     },
     "execution_count": 1,
     "metadata": {},
     "output_type": "execute_result"
    }
   ],
   "source": [
    "#two sum\n",
    "class Solution:\n",
    "    def twoSum(self, nums,target):\n",
    "        for i in range(len(nums)):\n",
    "            for j in range(1,len(nums)):\n",
    "                if nums[i]+nums[j]==target:\n",
    "                    return [i,j]\n",
    "S=Solution()\n",
    "list=[2,7,11,15]\n",
    "tar=9\n",
    "S.twoSum(list,tar)"
   ]
  },
  {
   "cell_type": "code",
   "execution_count": 2,
   "id": "bda79a72",
   "metadata": {},
   "outputs": [
    {
     "name": "stdout",
     "output_type": "stream",
     "text": [
      "Minimum difference is 10\n"
     ]
    }
   ],
   "source": [
    "#chocolates distribution problem\n",
    "def findMinDiff(arr, n, m):\n",
    "  \n",
    "    # if there are no chocolates or number\n",
    "    # of students is 0\n",
    "    if (m==0 or n==0):\n",
    "        return 0\n",
    "  \n",
    "    # Sort the given packets\n",
    "    arr.sort()\n",
    "    if (n < m):\n",
    "        return -1\n",
    "  \n",
    "    # Largest number of chocolates\n",
    "    min_diff = arr[n-1] - arr[0]\n",
    "    for i in range(len(arr) - m + 1):\n",
    "        min_diff = min(min_diff ,  arr[i + m - 1] - arr[i])\n",
    "      \n",
    "          \n",
    "    return min_diff\n",
    "  \n",
    "# Driver Code\n",
    "if __name__ == \"__main__\":\n",
    "    arr = [12, 4, 7, 9, 2, 23, 25, 41,\n",
    "          30, 40, 28, 42, 30, 44, 48, \n",
    "          43, 50]\n",
    "    m = 7 # Number of students\n",
    "    n = len(arr)\n",
    "    print(\"Minimum difference is\", findMinDiff(arr, n, m))\n",
    "      \n"
   ]
  },
  {
   "cell_type": "code",
   "execution_count": 3,
   "id": "3cc3f096",
   "metadata": {},
   "outputs": [
    {
     "data": {
      "text/plain": [
       "5"
      ]
     },
     "execution_count": 3,
     "metadata": {},
     "output_type": "execute_result"
    }
   ],
   "source": [
    "#Best time to buy ans sell stock\n",
    "class Solution:\n",
    "    def maxProfit(self, prices):\n",
    "        maxprof=0\n",
    "        j=0\n",
    "        for i in range(1,len(prices)):\n",
    "            diff=prices[i]-prices[j]\n",
    "            if diff>maxprof:\n",
    "                maxprof=diff\n",
    "            if prices[i]<prices[j]:\n",
    "                j=i\n",
    "        return maxprof\n",
    "S=Solution()\n",
    "list=[7,1,5,3,6,4]\n",
    "S.maxProfit(list)"
   ]
  },
  {
   "cell_type": "code",
   "execution_count": 5,
   "id": "61992c3d",
   "metadata": {},
   "outputs": [
    {
     "data": {
      "text/plain": [
       "7"
      ]
     },
     "execution_count": 5,
     "metadata": {},
     "output_type": "execute_result"
    }
   ],
   "source": [
    "#subarrays divisible by k\n",
    "class Solution:\n",
    "    def subarraysDivByK(self, nums,k):\n",
    "        answer = 0\n",
    "        n = len(nums)\n",
    "        for start in range(n):\n",
    "            for end in range(start,n):\n",
    "                subarraySum = sum(nums[start:end+1])\n",
    "                if subarraySum % k == 0:\n",
    "                    answer += 1\n",
    "        return answer\n",
    "S=Solution()\n",
    "list=[4,5,0,-2,-3,1]\n",
    "tar=5\n",
    "S.subarraysDivByK(list,tar)"
   ]
  },
  {
   "cell_type": "code",
   "execution_count": 6,
   "id": "7f4f3c8c",
   "metadata": {},
   "outputs": [
    {
     "data": {
      "text/plain": [
       "[2, 3]"
      ]
     },
     "execution_count": 6,
     "metadata": {},
     "output_type": "execute_result"
    }
   ],
   "source": [
    "#find all duplicates in an arrayclass Solution:\n",
    "    def findDuplicates(self, num):\n",
    "        c=[]\n",
    "        for i in range(len(num)):\n",
    "            for j in range(1,i):\n",
    "                if num[i]==num[j]:\n",
    "                    c.append(num[i])\n",
    "        return c\n",
    "S=Solution()\n",
    "list=[4,3,2,7,8,2,3,1]\n",
    "S.findDuplicates(list)"
   ]
  },
  {
   "cell_type": "code",
   "execution_count": 10,
   "id": "de59a3f3",
   "metadata": {},
   "outputs": [
    {
     "data": {
      "text/plain": [
       "49"
      ]
     },
     "execution_count": 10,
     "metadata": {},
     "output_type": "execute_result"
    }
   ],
   "source": [
    "#container with most water\n",
    "class Solution:\n",
    "    def maxArea(self, height):\n",
    "        water = 0\n",
    "        head = 0\n",
    "        tail = len(height) - 1\n",
    "\n",
    "        for cnt in range(len(height)):\n",
    "        \n",
    "            width = abs(head - tail)\n",
    "        \n",
    "            if height[head] < height[tail]:   \n",
    "                res = width * height[head]\n",
    "                head += 1\n",
    "            else:\n",
    "                res = width * height[tail]\n",
    "                tail -= 1\n",
    "\n",
    "            if res > water:\n",
    "                water = res\n",
    "\n",
    "        return water\n",
    "S=Solution()  \n",
    "h=[1,8,6,2,5,4,8,3,7]\n",
    "S.maxArea(h)"
   ]
  },
  {
   "cell_type": "code",
   "execution_count": null,
   "id": "0e923db0",
   "metadata": {},
   "outputs": [],
   "source": []
  }
 ],
 "metadata": {
  "kernelspec": {
   "display_name": "Python 3",
   "language": "python",
   "name": "python3"
  },
  "language_info": {
   "codemirror_mode": {
    "name": "ipython",
    "version": 3
   },
   "file_extension": ".py",
   "mimetype": "text/x-python",
   "name": "python",
   "nbconvert_exporter": "python",
   "pygments_lexer": "ipython3",
   "version": "3.8.8"
  }
 },
 "nbformat": 4,
 "nbformat_minor": 5
}
